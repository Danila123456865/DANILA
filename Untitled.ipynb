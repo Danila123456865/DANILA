{
 "cells": [
  {
   "cell_type": "markdown",
   "id": "e8429c73-a0d6-4301-8e67-75a5109df55e",
   "metadata": {},
   "source": [
    "# я не понял где файл который мы писали на занятии"
   ]
  },
  {
   "cell_type": "code",
   "execution_count": null,
   "id": "f5b97a48-e46a-4a48-9601-50cbe03a2dd7",
   "metadata": {},
   "outputs": [],
   "source": []
  }
 ],
 "metadata": {
  "kernelspec": {
   "display_name": "Python 3 (ipykernel)",
   "language": "python",
   "name": "python3"
  },
  "language_info": {
   "codemirror_mode": {
    "name": "ipython",
    "version": 3
   },
   "file_extension": ".py",
   "mimetype": "text/x-python",
   "name": "python",
   "nbconvert_exporter": "python",
   "pygments_lexer": "ipython3",
   "version": "3.13.5"
  }
 },
 "nbformat": 4,
 "nbformat_minor": 5
}
